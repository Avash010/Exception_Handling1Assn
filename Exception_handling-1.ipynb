{
 "cells": [
  {
   "cell_type": "markdown",
   "id": "5a697095-3a51-4aee-a991-d08a08a7e41e",
   "metadata": {},
   "source": [
    "## Q1. What is an Exception in python? Write the difference between Exceptions and syntax errors."
   ]
  },
  {
   "cell_type": "code",
   "execution_count": 1,
   "id": "fdb1dc74-540b-47d5-a56e-d8fd742599f0",
   "metadata": {},
   "outputs": [],
   "source": [
    "# An exception occurs during the execution of a program to disrupt the normal flow of the program.\n",
    "# Exceptions can be caused by various factors such as invalid input, errors in the program logic etc.\n",
    "# Python provides a built-in mechanism for handling exceptions using try-except blocks.\n",
    "# Exceptions are caused by runtime errors while syntax errors are caused by mistakes in the program's code structure.\n",
    "# Exceptions occur during the runtime of the program, while syntax errors are identified before the program is executed.\n",
    "# Exceptions may still allow the program to execute partially while Syntax errors prevent the program from running until they are fixed."
   ]
  },
  {
   "cell_type": "markdown",
   "id": "01db5766-f865-4dd7-b567-305f6b3eaaf8",
   "metadata": {},
   "source": [
    "## Q2. What happens when an exception is not handled? Explain with an example."
   ]
  },
  {
   "cell_type": "code",
   "execution_count": 1,
   "id": "dbc86a59-6c7b-4af3-b93c-47ae2d112f3d",
   "metadata": {},
   "outputs": [],
   "source": [
    "# When an exception is not handled, it terminates the execution of program & displays an error message, indicating types of exception that occurred."
   ]
  },
  {
   "cell_type": "code",
   "execution_count": 2,
   "id": "c50e302b-76c2-4638-b1c3-354557ab6b6a",
   "metadata": {},
   "outputs": [
    {
     "ename": "ZeroDivisionError",
     "evalue": "division by zero",
     "output_type": "error",
     "traceback": [
      "\u001b[0;31m---------------------------------------------------------------------------\u001b[0m",
      "\u001b[0;31mZeroDivisionError\u001b[0m                         Traceback (most recent call last)",
      "Cell \u001b[0;32mIn[2], line 1\u001b[0m\n\u001b[0;32m----> 1\u001b[0m a \u001b[38;5;241m=\u001b[39m \u001b[38;5;241;43m20\u001b[39;49m\u001b[38;5;241;43m/\u001b[39;49m\u001b[38;5;241;43m0\u001b[39;49m   \u001b[38;5;66;03m#here 'ZeroDivisionError' occured while executing program\u001b[39;00m\n",
      "\u001b[0;31mZeroDivisionError\u001b[0m: division by zero"
     ]
    }
   ],
   "source": [
    "a = 20/0   #here 'ZeroDivisionError' occured while executing program"
   ]
  },
  {
   "cell_type": "code",
   "execution_count": 3,
   "id": "9f861436-3da8-4484-b691-8f52f3b36e69",
   "metadata": {},
   "outputs": [
    {
     "name": "stdout",
     "output_type": "stream",
     "text": [
      "division by zero\n"
     ]
    }
   ],
   "source": [
    "try:\n",
    "    a = 20/0\n",
    "except ZeroDivisionError as e:    #here error handled by 'ZeroDivisionError' exception & program executed\n",
    "    print(e)"
   ]
  },
  {
   "cell_type": "markdown",
   "id": "2844ed6d-5bfd-4a6a-8f68-283bb7701758",
   "metadata": {},
   "source": [
    "## Q3. Which Python statements are used to catch and handle exceptions? Explain with an example."
   ]
  },
  {
   "cell_type": "code",
   "execution_count": 1,
   "id": "c4ec7e31-631c-49eb-8fa6-91a7d25b3212",
   "metadata": {},
   "outputs": [],
   "source": [
    "# 'try and except' statements are used to catch & handle exception in python."
   ]
  },
  {
   "cell_type": "code",
   "execution_count": 2,
   "id": "bd200a1c-2f94-4552-8add-3ea935f86bf8",
   "metadata": {},
   "outputs": [
    {
     "name": "stdout",
     "output_type": "stream",
     "text": [
      "invalid literal for int() with base 10: 'Avash'\n"
     ]
    }
   ],
   "source": [
    "try:\n",
    "    int('Avash')   #try block contains code that might raise exceptions.\n",
    "except ValueError as e:  #'ValueError' catches exception raised, when non-integer value entered.\n",
    "    print(e)"
   ]
  },
  {
   "cell_type": "markdown",
   "id": "02e43499-4a65-48ca-a675-f4519daa5074",
   "metadata": {},
   "source": [
    "### Q4. Explain with an example:\n",
    "# (a)try and else\n",
    "# (b)finally\n",
    "# (c)raise "
   ]
  },
  {
   "cell_type": "code",
   "execution_count": 1,
   "id": "d4ba8933-b6e0-4f02-b10a-29bbfcb13836",
   "metadata": {},
   "outputs": [],
   "source": [
    "#(a) The else block is used with the try block to specify successfully execution of try block without going to except block."
   ]
  },
  {
   "cell_type": "code",
   "execution_count": 2,
   "id": "ff05f254-753c-4f59-a922-4717d6c2c823",
   "metadata": {},
   "outputs": [
    {
     "name": "stdout",
     "output_type": "stream",
     "text": [
      "This will execute when try block run successfully\n"
     ]
    }
   ],
   "source": [
    "try:\n",
    "    f = open(\"test.txt\",'w')\n",
    "    f.write(\"This is my try block\")\n",
    "except Exception as e:\n",
    "    print(\"Error\")\n",
    "else:\n",
    "    print(\"This will execute when try block run successfully\")\n",
    "# As try block run successfully without going to except block, so else will be printed"
   ]
  },
  {
   "cell_type": "code",
   "execution_count": 3,
   "id": "57344d36-c12f-4079-88ed-b7eb54fe1c5c",
   "metadata": {},
   "outputs": [],
   "source": [
    "#(b) The finally block is used to specify execution of code regardless of whether an exception occurs or not."
   ]
  },
  {
   "cell_type": "code",
   "execution_count": 4,
   "id": "28e8200c-ca74-4b9f-9eb3-e9c79dd84602",
   "metadata": {},
   "outputs": [
    {
     "name": "stdout",
     "output_type": "stream",
     "text": [
      "File not found\n",
      "Finally will be executed with or without error\n"
     ]
    }
   ],
   "source": [
    "try:\n",
    "    f = open(\"message.txt\",'r')\n",
    "    f.write(\"This is my try block\")\n",
    "except FileNotFoundError as e:\n",
    "    print(\"File not found\")\n",
    "finally:\n",
    "    print(\"Finally will be executed with or without error\")\n",
    "# finally block executed regardless of exception occurs"
   ]
  },
  {
   "cell_type": "code",
   "execution_count": 5,
   "id": "3d02e299-21e1-4d22-842c-79e5570b7ce4",
   "metadata": {},
   "outputs": [],
   "source": [
    "#(c) The raise statement is used to manually raise an exception."
   ]
  },
  {
   "cell_type": "code",
   "execution_count": 6,
   "id": "0dc51110-a4c5-40c9-9f9c-f61ba3023295",
   "metadata": {},
   "outputs": [
    {
     "name": "stdin",
     "output_type": "stream",
     "text": [
      "Enter a number -65\n"
     ]
    },
    {
     "name": "stdout",
     "output_type": "stream",
     "text": [
      "-65 is a negative number\n"
     ]
    }
   ],
   "source": [
    "class ValueError(Exception):\n",
    "    def __init__(self,num):\n",
    "        self.num = num\n",
    "\n",
    "def validate_num(num):\n",
    "        if num <0:\n",
    "            raise ValueError(f\"{num} is a negative number\")\n",
    "        else:\n",
    "            print(f\"{num} is a valid number\")\n",
    "\n",
    "try:\n",
    "    num = int(input(\"Enter a number\"))\n",
    "    validate_num(num)\n",
    "except ValueError as e:\n",
    "    print(e)\n",
    "#  validate_num function raises a ValueError exception if the input number is negative"
   ]
  },
  {
   "cell_type": "markdown",
   "id": "9e7f4896-45d5-4221-95fa-e4074a1c39a0",
   "metadata": {},
   "source": [
    "## Q5. What are Custom Exceptions in python? Why do we need Custom Exceptions? Explain with an example."
   ]
  },
  {
   "cell_type": "code",
   "execution_count": 1,
   "id": "c76fe8a0-a939-469b-ad26-c22fa62146f4",
   "metadata": {},
   "outputs": [],
   "source": [
    "# Custom exceptions are user-defined exception classes that inherit from the built-in Exception classes which allows to raise own exceptions."
   ]
  },
  {
   "cell_type": "code",
   "execution_count": 2,
   "id": "f2969068-c31e-4b82-b6bc-ee64e815d99d",
   "metadata": {},
   "outputs": [],
   "source": [
    "# We need custom exceptions to encounter an error that is specific to a application and can't be handled by the existing built-in exceptions."
   ]
  },
  {
   "cell_type": "code",
   "execution_count": 3,
   "id": "1ceff858-ccef-4d88-a35c-8bb549b4709a",
   "metadata": {},
   "outputs": [
    {
     "name": "stdin",
     "output_type": "stream",
     "text": [
      "Enter a number 9876456\n"
     ]
    },
    {
     "name": "stdout",
     "output_type": "stream",
     "text": [
      "9876456 is not a valid mobile number\n"
     ]
    }
   ],
   "source": [
    "class InvalidNumberError(Exception):    \n",
    "    def __init__(self, num):\n",
    "        self.num = num\n",
    "\n",
    "def validate_num(num):\n",
    "    if len(num) < 10:\n",
    "        raise InvalidNumberError(f\"{num} is not a valid mobile number\")\n",
    "    else:\n",
    "            print(f\"{num} is a valid number\")\n",
    "\n",
    "try:\n",
    "    num = input(\"Enter a number\")\n",
    "    validate_num(num)\n",
    "except InvalidNumberError as e:\n",
    "    print(e)\n",
    "# 'InvalidNumberError' exception created as custom exception for validation of number."
   ]
  },
  {
   "cell_type": "markdown",
   "id": "54b807bc-a327-443f-aa72-83d712824558",
   "metadata": {},
   "source": [
    "## Q6. Create a custom exception class. Use this class to handle an exception."
   ]
  },
  {
   "cell_type": "code",
   "execution_count": 1,
   "id": "14fb1387-bf2e-401e-9d05-59ee56a10914",
   "metadata": {},
   "outputs": [
    {
     "name": "stdin",
     "output_type": "stream",
     "text": [
      "Enter your mail:  avashpanda.com\n"
     ]
    },
    {
     "name": "stdout",
     "output_type": "stream",
     "text": [
      "Custom Exception: Invalid mail\n"
     ]
    }
   ],
   "source": [
    "class CustomException(Exception):\n",
    "    def __init__(self, email):\n",
    "        self.email = email\n",
    "\n",
    "try:\n",
    "    email = input(\"Enter your mail: \")\n",
    "    if \"@\" not in email:\n",
    "        raise CustomException(\"Invalid mail\")\n",
    "    else:\n",
    "        print(\"Your mail is: \",email)\n",
    "except CustomException as e:\n",
    "    print(\"Custom Exception:\", e.email)\n",
    "except Exception as e:\n",
    "    print(\"Invalid input\", e.email)\n",
    "# Here error handled in 'CustomException'"
   ]
  }
 ],
 "metadata": {
  "kernelspec": {
   "display_name": "Python 3 (ipykernel)",
   "language": "python",
   "name": "python3"
  },
  "language_info": {
   "codemirror_mode": {
    "name": "ipython",
    "version": 3
   },
   "file_extension": ".py",
   "mimetype": "text/x-python",
   "name": "python",
   "nbconvert_exporter": "python",
   "pygments_lexer": "ipython3",
   "version": "3.10.8"
  }
 },
 "nbformat": 4,
 "nbformat_minor": 5
}
